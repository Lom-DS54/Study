{
 "cells": [
  {
   "cell_type": "markdown",
   "id": "e4d88bd4-0e87-46d3-ad25-765d80ab365a",
   "metadata": {},
   "source": [
    "# Data Science Tools and Ecosystem"
   ]
  },
  {
   "cell_type": "markdown",
   "id": "b1ad7639-caff-425e-a830-649d5d31683c",
   "metadata": {},
   "source": [
    "In this notebook, Data Science Tools and Ecosystem are summarized."
   ]
  },
  {
   "cell_type": "markdown",
   "id": "e9362bf7-23be-45bf-a725-243ea3185681",
   "metadata": {},
   "source": [
    "Some of the popular languages that Data Scientists use are:\n",
    "\n",
    "1. Python\n",
    "2. R\n",
    "3. SQL\n",
    "4. Julia\n",
    "5. Scala"
   ]
  },
  {
   "cell_type": "markdown",
   "id": "20bab63e-cf99-4065-8f60-dc4aaf6fd9de",
   "metadata": {},
   "source": [
    "Some of the commonly used libraries used by Data Scientists include:\n",
    "\n",
    "1. Pandas\n",
    "2. NumPy\n",
    "3. Matplotlib\n",
    "4. Scikit-learn\n",
    "5. TensorFlow"
   ]
  },
  {
   "cell_type": "markdown",
   "id": "84a3c7eb-75a0-4db5-8649-28e90be8506b",
   "metadata": {},
   "source": [
    "**Objectives:**\n",
    "\n",
    "- List popular languages for Data Science\n",
    "- Identify common Data Science libraries\n",
    "- Describe key Data Science tools\n",
    "- Demonstrate how to convert minutes to hours\n",
    "- Provide examples of arithmetic expressions in Python"
   ]
  },
  {
   "cell_type": "markdown",
   "id": "346417a2-c151-4e5b-b366-a98d7edbb98d",
   "metadata": {},
   "source": [
    "| Data Science Tools         |\n",
    "|----------------------------|\n",
    "| Jupyter Notebook            |\n",
    "| RStudio                     |\n",
    "| Apache Zeppelin             |"
   ]
  },
  {
   "cell_type": "code",
   "execution_count": 3,
   "id": "3bdde00c-3e8b-4966-a3c2-b25d29b2a3e3",
   "metadata": {},
   "outputs": [
    {
     "data": {
      "text/plain": [
       "19.0"
      ]
     },
     "execution_count": 3,
     "metadata": {},
     "output_type": "execute_result"
    }
   ],
   "source": [
    "### Below are a few examples of evaluating arithmetic expressions in Python. Below are a few examples of evaluating arithmetic expressions in Python.\n",
    "(34+4)/2"
   ]
  },
  {
   "cell_type": "code",
   "execution_count": 4,
   "id": "870248c8-24d1-480f-8d76-aee4173a0dbf",
   "metadata": {},
   "outputs": [
    {
     "data": {
      "text/plain": [
       "17"
      ]
     },
     "execution_count": 4,
     "metadata": {},
     "output_type": "execute_result"
    }
   ],
   "source": [
    "# This a simple arithmetic expression to mutiply then add integers\n",
    "(3*4)+5"
   ]
  },
  {
   "cell_type": "code",
   "execution_count": 5,
   "id": "d92ec7ee-efd6-4f4f-8186-84f78d675e45",
   "metadata": {},
   "outputs": [
    {
     "data": {
      "text/plain": [
       "3.3333333333333335"
      ]
     },
     "execution_count": 5,
     "metadata": {},
     "output_type": "execute_result"
    }
   ],
   "source": [
    " #  This will convert 200 minutes to hours by diving by 60\n",
    "200/60"
   ]
  },
  {
   "cell_type": "markdown",
   "id": "e63e5ca4-3927-4188-b050-1f7708761820",
   "metadata": {},
   "source": [
    "## Author\n",
    "**Lom-DS54**"
   ]
  }
 ],
 "metadata": {
  "kernelspec": {
   "display_name": "Python 3 (ipykernel)",
   "language": "python",
   "name": "python3"
  },
  "language_info": {
   "codemirror_mode": {
    "name": "ipython",
    "version": 3
   },
   "file_extension": ".py",
   "mimetype": "text/x-python",
   "name": "python",
   "nbconvert_exporter": "python",
   "pygments_lexer": "ipython3",
   "version": "3.12.4"
  }
 },
 "nbformat": 4,
 "nbformat_minor": 5
}
